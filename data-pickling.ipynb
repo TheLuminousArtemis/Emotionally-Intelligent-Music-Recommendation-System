{
 "cells": [
  {
   "cell_type": "code",
   "execution_count": null,
   "metadata": {},
   "outputs": [],
   "source": [
    "import pickle\n",
    "import pandas as pd\n",
    "import numpy as np\n",
    "from sklearn.feature_extraction.text import TfidfVectorizer\n",
    "from sklearn.metrics.pairwise import cosine_similarity\n",
    "from sklearn.metrics.pairwise import euclidean_distances\n",
    "from sklearn.preprocessing import LabelEncoder"
   ]
  },
  {
   "cell_type": "code",
   "execution_count": null,
   "metadata": {},
   "outputs": [],
   "source": [
    "song_df = pd.read_csv('spotify_data_random-forest-final.csv')"
   ]
  },
  {
   "cell_type": "code",
   "execution_count": null,
   "metadata": {},
   "outputs": [],
   "source": [
    "song_df = song_df.drop_duplicates(subset=['track_name', 'track_artist'])\n",
    "song_df['track_album_release_date'] = pd.to_datetime(song_df['track_album_release_date'], infer_datetime_format=True)\n",
    "song_df = song_df.sort_values(by=['track_album_release_date'])\n",
    "song_df.reset_index(drop=True, inplace=True)\n",
    "songs_count = song_df.shape[0]"
   ]
  },
  {
   "cell_type": "code",
   "execution_count": null,
   "metadata": {},
   "outputs": [],
   "source": [
    "lyrics_data = song_df['lyrics']\n",
    "energy_data = song_df['energy'].values.reshape(-1, 1)"
   ]
  },
  {
   "cell_type": "code",
   "execution_count": null,
   "metadata": {},
   "outputs": [],
   "source": [
    "label_encoder = LabelEncoder()\n",
    "encoded_mood_data = label_encoder.fit_transform(song_df['predicted_mood_rf']).reshape(-1, 1)\n"
   ]
  },
  {
   "cell_type": "code",
   "execution_count": null,
   "metadata": {},
   "outputs": [],
   "source": [
    "def get_similar_indices(track_index, count, comparison_matrix, select_smallest):\n",
    "    similar_songs_indexes = np.argsort(np.array(comparison_matrix[track_index]))\n",
    "    similar_songs_indexes = np.delete(similar_songs_indexes, np.where(similar_songs_indexes == track_index))\n",
    "    return similar_songs_indexes[:count] if select_smallest else similar_songs_indexes[::-1][:count]"
   ]
  },
  {
   "cell_type": "code",
   "execution_count": null,
   "metadata": {},
   "outputs": [],
   "source": [
    "lyrics_data = TfidfVectorizer(stop_words='english').fit_transform(lyrics_data)\n",
    "lyric_similarity_matrix = cosine_similarity(lyrics_data)\n",
    "lyric_similarity_mapping = dict()\n",
    "for i in range(songs_count):\n",
    "    lyric_similarity_mapping[i] = get_similar_indices(i, 20, lyric_similarity_matrix, False)"
   ]
  },
  {
   "cell_type": "code",
   "execution_count": null,
   "metadata": {},
   "outputs": [],
   "source": [
    "energy_difference_matrix = euclidean_distances(energy_data)\n",
    "energy_similarity_mapping = dict()\n",
    "for i in range(songs_count):\n",
    "    energy_similarity_mapping[i] = get_similar_indices(i, 20, energy_difference_matrix, True)"
   ]
  },
  {
   "cell_type": "code",
   "execution_count": null,
   "metadata": {},
   "outputs": [],
   "source": [
    "mood_similarity_matrix = euclidean_distances(encoded_mood_data)\n",
    "mood_similarity_mapping = dict()\n",
    "for i in range(songs_count):\n",
    "    mood_similarity_mapping[i] = get_similar_indices(i, 20, lyric_similarity_matrix, True)"
   ]
  },
  {
   "cell_type": "code",
   "execution_count": null,
   "metadata": {},
   "outputs": [],
   "source": [
    "pickle.dump(song_df, open('pickles/data.pkl', 'wb'))\n",
    "pickle.dump(lyric_similarity_mapping, open('pickles/lyric_similarity_mapping.pkl', 'wb'))\n",
    "pickle.dump(energy_similarity_mapping, open('pickles/energy_similarity_mapping.pkl', 'wb'))\n",
    "pickle.dump(mood_similarity_mapping, open('pickles/mood_similarity_mapping.pkl', 'wb'))"
   ]
  }
 ],
 "metadata": {
  "kernelspec": {
   "display_name": "base",
   "language": "python",
   "name": "python3"
  },
  "language_info": {
   "codemirror_mode": {
    "name": "ipython",
    "version": 3
   },
   "file_extension": ".py",
   "mimetype": "text/x-python",
   "name": "python",
   "nbconvert_exporter": "python",
   "pygments_lexer": "ipython3",
   "version": "3.10.13"
  }
 },
 "nbformat": 4,
 "nbformat_minor": 2
}
