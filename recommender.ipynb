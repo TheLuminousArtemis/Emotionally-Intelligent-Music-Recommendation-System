{
 "cells": [
  {
   "cell_type": "code",
   "execution_count": null,
   "metadata": {},
   "outputs": [],
   "source": [
    "import pandas as pd\n",
    "import numpy as np\n",
    "from sklearn.feature_extraction.text import TfidfVectorizer\n",
    "from sklearn.metrics.pairwise import cosine_similarity\n",
    "from sklearn.metrics.pairwise import euclidean_distances\n",
    "from sklearn.preprocessing import LabelEncoder"
   ]
  },
  {
   "cell_type": "code",
   "execution_count": null,
   "metadata": {},
   "outputs": [],
   "source": [
    "song_df = pd.read_csv('spotify_data_random-forest-final.csv')"
   ]
  },
  {
   "cell_type": "code",
   "execution_count": null,
   "metadata": {},
   "outputs": [],
   "source": [
    "songs_count = song_df.shape[0]\n",
    "print(songs_count)"
   ]
  },
  {
   "cell_type": "code",
   "execution_count": null,
   "metadata": {},
   "outputs": [],
   "source": [
    "print(song_df.dtypes)"
   ]
  },
  {
   "cell_type": "code",
   "execution_count": null,
   "metadata": {},
   "outputs": [],
   "source": [
    "lyrics_data = song_df['lyrics']\n",
    "energy_data = song_df['energy'].values.reshape(-1, 1)"
   ]
  },
  {
   "cell_type": "code",
   "execution_count": null,
   "metadata": {},
   "outputs": [],
   "source": [
    "#Lyrically Similar\n",
    "from sklearn.feature_extraction.text import TfidfVectorizer\n",
    "from sklearn.metrics.pairwise import cosine_similarity\n",
    "\n",
    "lyric_vectorizer = TfidfVectorizer(stop_words='english')\n",
    "lyrics_data = lyric_vectorizer.fit_transform(lyrics_data)\n",
    "lyric_similarity_matrix = cosine_similarity(lyrics_data)"
   ]
  },
  {
   "cell_type": "code",
   "execution_count": null,
   "metadata": {},
   "outputs": [],
   "source": [
    "energy_difference_matrix = euclidean_distances(energy_data)\n",
    "similar_energy_songs = energy_difference_matrix.argsort()"
   ]
  },
  {
   "cell_type": "code",
   "execution_count": null,
   "metadata": {},
   "outputs": [],
   "source": [
    "label_encoder = LabelEncoder()\n",
    "\n",
    "encoded_mood_data = label_encoder.fit_transform(song_df['predicted_mood_rf']).reshape(-1, 1)\n",
    "\n",
    "mood_difference_matrix = euclidean_distances(encoded_mood_data)"
   ]
  },
  {
   "cell_type": "code",
   "execution_count": null,
   "metadata": {},
   "outputs": [],
   "source": [
    "def sort_by_popularity(songs, descending=True):\n",
    "    if descending:\n",
    "        return songs.sort_values(by=['track_popularity'])[::-1]\n",
    "    else:\n",
    "        return songs.sort_values(by=['track_popularity'])\n",
    "\n",
    "\n",
    "def get_similar(track_index, count, comparison_matrix, select_smallest):\n",
    "    similar_songs_indexes = np.argsort(np.array(comparison_matrix[track_index]))\n",
    "    similar_songs_indexes = np.delete(similar_songs_indexes, np.where(similar_songs_indexes == track_index))\n",
    "    similar_songs_indexes = similar_songs_indexes[:count] if select_smallest else similar_songs_indexes[::-1][:count]\n",
    "    return song_df.iloc[similar_songs_indexes].copy()\n",
    "\n",
    "\n",
    "def songs_as_dict(songs, include_fields):\n",
    "    return songs[include_fields].to_dict(orient='index')\n",
    "\n",
    "\n",
    "def get_closest_n(track_index, count):\n",
    "    if track_index >= count//2 and track_index < songs_count-count//2:\n",
    "        return pd.concat([song_df.iloc[track_index-count//2 : track_index], song_df.iloc[track_index+1 : track_index+count//2+1]])\n",
    "    elif track_index < count//2:\n",
    "        return song_df.head(count+1).drop(track_index)\n",
    "    else:\n",
    "        return song_df.tail(count+1).drop(track_index)"
   ]
  },
  {
   "cell_type": "code",
   "execution_count": null,
   "metadata": {},
   "outputs": [],
   "source": [
    "def get_by_same_artist(track_index, count):\n",
    "    return song_df[song_df['track_artist'] == song_df.iloc[track_index]['track_artist']].drop(track_index)[:count]\n",
    "\n",
    "\n",
    "def get_lyrically_similar(track_index, count):\n",
    "    return get_similar(track_index, count, lyric_similarity_matrix, False)\n",
    "\n",
    "\n",
    "def get_energy_similar(track_index, count):\n",
    "    return get_similar(track_index, count, energy_difference_matrix, True)\n",
    "\n",
    "\n",
    "def get_mood_similar(track_index, count):\n",
    "    return get_similar(track_index, count, mood_difference_matrix, True)\n",
    "\n",
    "\n",
    "def get_released_around_same_time(track_index, count):\n",
    "    return get_closest_n(track_index, count)"
   ]
  },
  {
   "cell_type": "code",
   "execution_count": null,
   "metadata": {},
   "outputs": [],
   "source": [
    "def recommend_by_same_artist(track_index, count, prioritisePopular):\n",
    "    songs_by_same_artist = get_by_same_artist(track_index, count)\n",
    "    songs_by_same_artist['recommendation_type'] = 'by same artist'\n",
    "    return sort_by_popularity(songs_by_same_artist, prioritisePopular)\n",
    "\n",
    "\n",
    "def recommend_lyrically_similar(track_index, count, prioritisePopular):\n",
    "    similar_songs = get_lyrically_similar(track_index, count)\n",
    "    similar_songs['recommendation_type'] = 'lyrically similar'\n",
    "    return sort_by_popularity(similar_songs, prioritisePopular)\n",
    "\n",
    "\n",
    "def recommend_energy_similar(track_index, count, prioritisePopular):\n",
    "    similar_songs = get_energy_similar(track_index, count)\n",
    "    similar_songs['recommendation_type'] = 'similar energy'\n",
    "    return sort_by_popularity(similar_songs, prioritisePopular)\n",
    "\n",
    "\n",
    "def recommend_mood_similar(track_index, count, prioritisePopular):\n",
    "    similar_songs = get_mood_similar(track_index, count)\n",
    "    similar_songs['recommendation_type'] = 'similar mood'\n",
    "    return sort_by_popularity(similar_songs, prioritisePopular)\n",
    "\n",
    "\n",
    "def recommend_released_around_same_time(track_index, count, prioritisePopular):\n",
    "    contemporary_songs = get_released_around_same_time(track_index, count)\n",
    "    contemporary_songs['recommendation_type'] = 'released around same time'\n",
    "    return sort_by_popularity(contemporary_songs, prioritisePopular)"
   ]
  },
  {
   "cell_type": "code",
   "execution_count": null,
   "metadata": {},
   "outputs": [],
   "source": [
    "def hybrid_recommend(track_index, count=6, prioritisePopular=True):\n",
    "    by_same_artist = recommend_by_same_artist(track_index, count, prioritisePopular)\n",
    "    lyrically_similar = recommend_lyrically_similar(track_index, count, prioritisePopular)\n",
    "    energy_similar = recommend_energy_similar(track_index, count, prioritisePopular)\n",
    "    mood_similar = recommend_mood_similar(track_index, count, prioritisePopular)\n",
    "    released_around_same_time = recommend_released_around_same_time(track_index, count, prioritisePopular)\n",
    "    all_recommendations = pd.concat([by_same_artist, lyrically_similar, energy_similar, mood_similar,released_around_same_time]).drop_duplicates()\n",
    "    return songs_as_dict(all_recommendations, include_fields=['track_name', 'track_artist', 'recommendation_type'])"
   ]
  }
 ],
 "metadata": {
  "kernelspec": {
   "display_name": "base",
   "language": "python",
   "name": "python3"
  },
  "language_info": {
   "codemirror_mode": {
    "name": "ipython",
    "version": 3
   },
   "file_extension": ".py",
   "mimetype": "text/x-python",
   "name": "python",
   "nbconvert_exporter": "python",
   "pygments_lexer": "ipython3",
   "version": "3.10.9"
  },
  "orig_nbformat": 4
 },
 "nbformat": 4,
 "nbformat_minor": 2
}
